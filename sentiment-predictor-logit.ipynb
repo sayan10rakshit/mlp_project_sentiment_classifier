{
 "cells": [
  {
   "cell_type": "code",
   "execution_count": 1,
   "id": "a75f7e0c",
   "metadata": {
    "execution": {
     "iopub.execute_input": "2023-08-02T05:15:29.346422Z",
     "iopub.status.busy": "2023-08-02T05:15:29.346062Z",
     "iopub.status.idle": "2023-08-02T05:15:29.356545Z",
     "shell.execute_reply": "2023-08-02T05:15:29.355526Z"
    },
    "papermill": {
     "duration": 0.02525,
     "end_time": "2023-08-02T05:15:29.358765",
     "exception": false,
     "start_time": "2023-08-02T05:15:29.333515",
     "status": "completed"
    },
    "scrolled": true,
    "tags": []
   },
   "outputs": [],
   "source": [
    "import numpy as np\n",
    "import pandas as pd"
   ]
  },
  {
   "cell_type": "code",
   "execution_count": 2,
   "id": "8440b0de",
   "metadata": {
    "execution": {
     "iopub.execute_input": "2023-08-02T05:15:29.377837Z",
     "iopub.status.busy": "2023-08-02T05:15:29.377463Z",
     "iopub.status.idle": "2023-08-02T05:15:31.119316Z",
     "shell.execute_reply": "2023-08-02T05:15:31.118211Z"
    },
    "papermill": {
     "duration": 1.754085,
     "end_time": "2023-08-02T05:15:31.121836",
     "exception": false,
     "start_time": "2023-08-02T05:15:29.367751",
     "status": "completed"
    },
    "tags": []
   },
   "outputs": [],
   "source": [
    "metadata = pd.read_csv(\"/kaggle/input/sentiment-prediction-on-movie-reviews/movies.csv\")\n",
    "train_data = pd.read_csv(\"/kaggle/input/sentiment-prediction-on-movie-reviews/train.csv\")"
   ]
  },
  {
   "cell_type": "code",
   "execution_count": 3,
   "id": "a865b24b",
   "metadata": {
    "execution": {
     "iopub.execute_input": "2023-08-02T05:15:31.141087Z",
     "iopub.status.busy": "2023-08-02T05:15:31.140719Z",
     "iopub.status.idle": "2023-08-02T05:15:31.169062Z",
     "shell.execute_reply": "2023-08-02T05:15:31.168008Z"
    },
    "papermill": {
     "duration": 0.040456,
     "end_time": "2023-08-02T05:15:31.171397",
     "exception": false,
     "start_time": "2023-08-02T05:15:31.130941",
     "status": "completed"
    },
    "tags": []
   },
   "outputs": [
    {
     "data": {
      "text/html": [
       "<div>\n",
       "<style scoped>\n",
       "    .dataframe tbody tr th:only-of-type {\n",
       "        vertical-align: middle;\n",
       "    }\n",
       "\n",
       "    .dataframe tbody tr th {\n",
       "        vertical-align: top;\n",
       "    }\n",
       "\n",
       "    .dataframe thead th {\n",
       "        text-align: right;\n",
       "    }\n",
       "</style>\n",
       "<table border=\"1\" class=\"dataframe\">\n",
       "  <thead>\n",
       "    <tr style=\"text-align: right;\">\n",
       "      <th></th>\n",
       "      <th>movieid</th>\n",
       "      <th>reviewerName</th>\n",
       "      <th>isFrequentReviewer</th>\n",
       "      <th>reviewText</th>\n",
       "      <th>sentiment</th>\n",
       "    </tr>\n",
       "  </thead>\n",
       "  <tbody>\n",
       "    <tr>\n",
       "      <th>0</th>\n",
       "      <td>marvelous_pirate</td>\n",
       "      <td>Benjamin Henry</td>\n",
       "      <td>False</td>\n",
       "      <td>Henry Selick’s first movie since 2009’s Corali...</td>\n",
       "      <td>POSITIVE</td>\n",
       "    </tr>\n",
       "    <tr>\n",
       "      <th>1</th>\n",
       "      <td>tony_montana_frodo_baggins_v_rocky_balboa</td>\n",
       "      <td>Felicia Lopez</td>\n",
       "      <td>False</td>\n",
       "      <td>With a cast that reads like the Vogue Oscar pa...</td>\n",
       "      <td>NEGATIVE</td>\n",
       "    </tr>\n",
       "    <tr>\n",
       "      <th>2</th>\n",
       "      <td>darth_vader_katniss_everdeen_sorcerer_donnie_d...</td>\n",
       "      <td>Mr. Charles Burgess</td>\n",
       "      <td>True</td>\n",
       "      <td>Creed II does not give us anything but another...</td>\n",
       "      <td>POSITIVE</td>\n",
       "    </tr>\n",
       "    <tr>\n",
       "      <th>3</th>\n",
       "      <td>lara_croft_glimmer</td>\n",
       "      <td>Ryan Barrett</td>\n",
       "      <td>False</td>\n",
       "      <td>I know what you're thinking, but this is no Li...</td>\n",
       "      <td>POSITIVE</td>\n",
       "    </tr>\n",
       "    <tr>\n",
       "      <th>4</th>\n",
       "      <td>jason_bourne_surreal_the_terminator_indiana_jones</td>\n",
       "      <td>Alexander Glover</td>\n",
       "      <td>False</td>\n",
       "      <td>Director Fernando Meirelles tells the story wi...</td>\n",
       "      <td>POSITIVE</td>\n",
       "    </tr>\n",
       "  </tbody>\n",
       "</table>\n",
       "</div>"
      ],
      "text/plain": [
       "                                             movieid         reviewerName  \\\n",
       "0                                   marvelous_pirate       Benjamin Henry   \n",
       "1          tony_montana_frodo_baggins_v_rocky_balboa        Felicia Lopez   \n",
       "2  darth_vader_katniss_everdeen_sorcerer_donnie_d...  Mr. Charles Burgess   \n",
       "3                                 lara_croft_glimmer         Ryan Barrett   \n",
       "4  jason_bourne_surreal_the_terminator_indiana_jones     Alexander Glover   \n",
       "\n",
       "   isFrequentReviewer                                         reviewText  \\\n",
       "0               False  Henry Selick’s first movie since 2009’s Corali...   \n",
       "1               False  With a cast that reads like the Vogue Oscar pa...   \n",
       "2                True  Creed II does not give us anything but another...   \n",
       "3               False  I know what you're thinking, but this is no Li...   \n",
       "4               False  Director Fernando Meirelles tells the story wi...   \n",
       "\n",
       "  sentiment  \n",
       "0  POSITIVE  \n",
       "1  NEGATIVE  \n",
       "2  POSITIVE  \n",
       "3  POSITIVE  \n",
       "4  POSITIVE  "
      ]
     },
     "execution_count": 3,
     "metadata": {},
     "output_type": "execute_result"
    }
   ],
   "source": [
    "train_data.head()"
   ]
  },
  {
   "cell_type": "code",
   "execution_count": 4,
   "id": "1be321b8",
   "metadata": {
    "execution": {
     "iopub.execute_input": "2023-08-02T05:15:31.191723Z",
     "iopub.status.busy": "2023-08-02T05:15:31.191074Z",
     "iopub.status.idle": "2023-08-02T05:15:31.322351Z",
     "shell.execute_reply": "2023-08-02T05:15:31.321370Z"
    },
    "papermill": {
     "duration": 0.144117,
     "end_time": "2023-08-02T05:15:31.324851",
     "exception": false,
     "start_time": "2023-08-02T05:15:31.180734",
     "status": "completed"
    },
    "tags": []
   },
   "outputs": [],
   "source": [
    "train_data = train_data.drop_duplicates(subset=[\"movieid\", \"reviewerName\", \"reviewText\"])"
   ]
  },
  {
   "cell_type": "code",
   "execution_count": 5,
   "id": "3975cb17",
   "metadata": {
    "execution": {
     "iopub.execute_input": "2023-08-02T05:15:31.344996Z",
     "iopub.status.busy": "2023-08-02T05:15:31.344600Z",
     "iopub.status.idle": "2023-08-02T05:15:31.774157Z",
     "shell.execute_reply": "2023-08-02T05:15:31.773078Z"
    },
    "papermill": {
     "duration": 0.442509,
     "end_time": "2023-08-02T05:15:31.776665",
     "exception": false,
     "start_time": "2023-08-02T05:15:31.334156",
     "status": "completed"
    },
    "tags": []
   },
   "outputs": [],
   "source": [
    "merged_df = pd.merge(metadata, train_data, on=\"movieid\", how=\"inner\")"
   ]
  },
  {
   "cell_type": "code",
   "execution_count": 6,
   "id": "2fa8ac54",
   "metadata": {
    "execution": {
     "iopub.execute_input": "2023-08-02T05:15:31.796938Z",
     "iopub.status.busy": "2023-08-02T05:15:31.796549Z",
     "iopub.status.idle": "2023-08-02T05:15:31.802733Z",
     "shell.execute_reply": "2023-08-02T05:15:31.801823Z"
    },
    "papermill": {
     "duration": 0.018915,
     "end_time": "2023-08-02T05:15:31.804943",
     "exception": false,
     "start_time": "2023-08-02T05:15:31.786028",
     "status": "completed"
    },
    "tags": []
   },
   "outputs": [
    {
     "data": {
      "text/plain": [
       "(521198, 18)"
      ]
     },
     "execution_count": 6,
     "metadata": {},
     "output_type": "execute_result"
    }
   ],
   "source": [
    "merged_df.shape"
   ]
  },
  {
   "cell_type": "code",
   "execution_count": 7,
   "id": "8a6e4b0e",
   "metadata": {
    "execution": {
     "iopub.execute_input": "2023-08-02T05:15:31.826168Z",
     "iopub.status.busy": "2023-08-02T05:15:31.825554Z",
     "iopub.status.idle": "2023-08-02T05:15:32.973814Z",
     "shell.execute_reply": "2023-08-02T05:15:32.972717Z"
    },
    "papermill": {
     "duration": 1.161922,
     "end_time": "2023-08-02T05:15:32.976393",
     "exception": false,
     "start_time": "2023-08-02T05:15:31.814471",
     "status": "completed"
    },
    "tags": []
   },
   "outputs": [],
   "source": [
    "merged_df[\"ratingContents\"] = merged_df[\"ratingContents\"].apply(\n",
    "    lambda x: str(x)[1:-1].replace(\",\", \"\").replace(\"'\", \"\")\n",
    ")\n",
    "merged_df[\"ratingContents\"] = merged_df[\"ratingContents\"].apply(\n",
    "    lambda x: str(x).replace(\",\", \"\").replace(\"'\", \"\")\n",
    ")\n",
    "merged_df[\"boxOffice\"] = merged_df[\"boxOffice\"].apply(\n",
    "    lambda x: str(x)[:-1].replace(\"$\", \"\")\n",
    ")\n",
    "merged_df[\"boxOffice\"] = pd.to_numeric(merged_df[\"boxOffice\"], errors=\"coerce\")"
   ]
  },
  {
   "cell_type": "code",
   "execution_count": 8,
   "id": "aaaa7197",
   "metadata": {
    "execution": {
     "iopub.execute_input": "2023-08-02T05:15:32.997251Z",
     "iopub.status.busy": "2023-08-02T05:15:32.996867Z",
     "iopub.status.idle": "2023-08-02T05:15:33.143366Z",
     "shell.execute_reply": "2023-08-02T05:15:33.142397Z"
    },
    "papermill": {
     "duration": 0.159678,
     "end_time": "2023-08-02T05:15:33.145539",
     "exception": false,
     "start_time": "2023-08-02T05:15:32.985861",
     "status": "completed"
    },
    "tags": []
   },
   "outputs": [
    {
     "data": {
      "text/html": [
       "<div>\n",
       "<style scoped>\n",
       "    .dataframe tbody tr th:only-of-type {\n",
       "        vertical-align: middle;\n",
       "    }\n",
       "\n",
       "    .dataframe tbody tr th {\n",
       "        vertical-align: top;\n",
       "    }\n",
       "\n",
       "    .dataframe thead th {\n",
       "        text-align: right;\n",
       "    }\n",
       "</style>\n",
       "<table border=\"1\" class=\"dataframe\">\n",
       "  <thead>\n",
       "    <tr style=\"text-align: right;\">\n",
       "      <th></th>\n",
       "      <th>title</th>\n",
       "      <th>audienceScore</th>\n",
       "      <th>rating</th>\n",
       "      <th>ratingContents</th>\n",
       "      <th>releaseDateTheaters</th>\n",
       "      <th>releaseDateStreaming</th>\n",
       "      <th>runtimeMinutes</th>\n",
       "      <th>genre</th>\n",
       "      <th>originalLanguage</th>\n",
       "      <th>director</th>\n",
       "      <th>boxOffice</th>\n",
       "      <th>distributor</th>\n",
       "      <th>soundType</th>\n",
       "      <th>reviewerName</th>\n",
       "      <th>isFrequentReviewer</th>\n",
       "      <th>reviewText</th>\n",
       "      <th>sentiment</th>\n",
       "    </tr>\n",
       "  </thead>\n",
       "  <tbody>\n",
       "    <tr>\n",
       "      <th>0</th>\n",
       "      <td>James Bond Courageous</td>\n",
       "      <td>65.0</td>\n",
       "      <td>PG-13</td>\n",
       "      <td>Injury Images Brief Drug Use Thematic Elements...</td>\n",
       "      <td>2018-06-01</td>\n",
       "      <td>2018-08-21</td>\n",
       "      <td>120.0</td>\n",
       "      <td>Adventure, Drama, Romance</td>\n",
       "      <td>English</td>\n",
       "      <td>Leroy Fernandes</td>\n",
       "      <td>31.4</td>\n",
       "      <td>STX Films</td>\n",
       "      <td>NaN</td>\n",
       "      <td>Karen Hamilton</td>\n",
       "      <td>False</td>\n",
       "      <td>This is nowhere near the level of other great ...</td>\n",
       "      <td>POSITIVE</td>\n",
       "    </tr>\n",
       "    <tr>\n",
       "      <th>1</th>\n",
       "      <td>James Bond Courageous</td>\n",
       "      <td>65.0</td>\n",
       "      <td>PG-13</td>\n",
       "      <td>Injury Images Brief Drug Use Thematic Elements...</td>\n",
       "      <td>2018-06-01</td>\n",
       "      <td>2018-08-21</td>\n",
       "      <td>120.0</td>\n",
       "      <td>Adventure, Drama, Romance</td>\n",
       "      <td>English</td>\n",
       "      <td>Leroy Fernandes</td>\n",
       "      <td>31.4</td>\n",
       "      <td>STX Films</td>\n",
       "      <td>NaN</td>\n",
       "      <td>Jessica Best</td>\n",
       "      <td>False</td>\n",
       "      <td>If you're feeling adventurous and looking for ...</td>\n",
       "      <td>POSITIVE</td>\n",
       "    </tr>\n",
       "    <tr>\n",
       "      <th>2</th>\n",
       "      <td>James Bond Courageous</td>\n",
       "      <td>65.0</td>\n",
       "      <td>PG-13</td>\n",
       "      <td>Injury Images Brief Drug Use Thematic Elements...</td>\n",
       "      <td>2018-06-01</td>\n",
       "      <td>2018-08-21</td>\n",
       "      <td>120.0</td>\n",
       "      <td>Adventure, Drama, Romance</td>\n",
       "      <td>English</td>\n",
       "      <td>Leroy Fernandes</td>\n",
       "      <td>31.4</td>\n",
       "      <td>STX Films</td>\n",
       "      <td>NaN</td>\n",
       "      <td>Rebekah Gomez</td>\n",
       "      <td>False</td>\n",
       "      <td>Mercifully, Vincent Cassel provides a strong l...</td>\n",
       "      <td>POSITIVE</td>\n",
       "    </tr>\n",
       "    <tr>\n",
       "      <th>3</th>\n",
       "      <td>James Bond Courageous</td>\n",
       "      <td>65.0</td>\n",
       "      <td>PG-13</td>\n",
       "      <td>Injury Images Brief Drug Use Thematic Elements...</td>\n",
       "      <td>2018-06-01</td>\n",
       "      <td>2018-08-21</td>\n",
       "      <td>120.0</td>\n",
       "      <td>Adventure, Drama, Romance</td>\n",
       "      <td>English</td>\n",
       "      <td>Leroy Fernandes</td>\n",
       "      <td>31.4</td>\n",
       "      <td>STX Films</td>\n",
       "      <td>NaN</td>\n",
       "      <td>Paul Sullivan</td>\n",
       "      <td>False</td>\n",
       "      <td>Like the storm that destroys the best laid pla...</td>\n",
       "      <td>POSITIVE</td>\n",
       "    </tr>\n",
       "    <tr>\n",
       "      <th>4</th>\n",
       "      <td>James Bond Courageous</td>\n",
       "      <td>65.0</td>\n",
       "      <td>PG-13</td>\n",
       "      <td>Injury Images Brief Drug Use Thematic Elements...</td>\n",
       "      <td>2018-06-01</td>\n",
       "      <td>2018-08-21</td>\n",
       "      <td>120.0</td>\n",
       "      <td>Adventure, Drama, Romance</td>\n",
       "      <td>English</td>\n",
       "      <td>Leroy Fernandes</td>\n",
       "      <td>31.4</td>\n",
       "      <td>STX Films</td>\n",
       "      <td>NaN</td>\n",
       "      <td>Stacey Malone</td>\n",
       "      <td>True</td>\n",
       "      <td>Less a proper coming-of-age movie than a posh ...</td>\n",
       "      <td>NEGATIVE</td>\n",
       "    </tr>\n",
       "  </tbody>\n",
       "</table>\n",
       "</div>"
      ],
      "text/plain": [
       "                   title  audienceScore rating  \\\n",
       "0  James Bond Courageous           65.0  PG-13   \n",
       "1  James Bond Courageous           65.0  PG-13   \n",
       "2  James Bond Courageous           65.0  PG-13   \n",
       "3  James Bond Courageous           65.0  PG-13   \n",
       "4  James Bond Courageous           65.0  PG-13   \n",
       "\n",
       "                                      ratingContents releaseDateTheaters  \\\n",
       "0  Injury Images Brief Drug Use Thematic Elements...          2018-06-01   \n",
       "1  Injury Images Brief Drug Use Thematic Elements...          2018-06-01   \n",
       "2  Injury Images Brief Drug Use Thematic Elements...          2018-06-01   \n",
       "3  Injury Images Brief Drug Use Thematic Elements...          2018-06-01   \n",
       "4  Injury Images Brief Drug Use Thematic Elements...          2018-06-01   \n",
       "\n",
       "  releaseDateStreaming  runtimeMinutes                      genre  \\\n",
       "0           2018-08-21           120.0  Adventure, Drama, Romance   \n",
       "1           2018-08-21           120.0  Adventure, Drama, Romance   \n",
       "2           2018-08-21           120.0  Adventure, Drama, Romance   \n",
       "3           2018-08-21           120.0  Adventure, Drama, Romance   \n",
       "4           2018-08-21           120.0  Adventure, Drama, Romance   \n",
       "\n",
       "  originalLanguage         director  boxOffice distributor soundType  \\\n",
       "0          English  Leroy Fernandes       31.4   STX Films       NaN   \n",
       "1          English  Leroy Fernandes       31.4   STX Films       NaN   \n",
       "2          English  Leroy Fernandes       31.4   STX Films       NaN   \n",
       "3          English  Leroy Fernandes       31.4   STX Films       NaN   \n",
       "4          English  Leroy Fernandes       31.4   STX Films       NaN   \n",
       "\n",
       "     reviewerName  isFrequentReviewer  \\\n",
       "0  Karen Hamilton               False   \n",
       "1    Jessica Best               False   \n",
       "2   Rebekah Gomez               False   \n",
       "3   Paul Sullivan               False   \n",
       "4   Stacey Malone                True   \n",
       "\n",
       "                                          reviewText sentiment  \n",
       "0  This is nowhere near the level of other great ...  POSITIVE  \n",
       "1  If you're feeling adventurous and looking for ...  POSITIVE  \n",
       "2  Mercifully, Vincent Cassel provides a strong l...  POSITIVE  \n",
       "3  Like the storm that destroys the best laid pla...  POSITIVE  \n",
       "4  Less a proper coming-of-age movie than a posh ...  NEGATIVE  "
      ]
     },
     "execution_count": 8,
     "metadata": {},
     "output_type": "execute_result"
    }
   ],
   "source": [
    "merged_df = merged_df.drop(\n",
    "    columns=[\n",
    "        \"movieid\",\n",
    "    ]\n",
    ")\n",
    "merged_df.head()"
   ]
  },
  {
   "cell_type": "code",
   "execution_count": 9,
   "id": "76337eac",
   "metadata": {
    "execution": {
     "iopub.execute_input": "2023-08-02T05:15:33.166516Z",
     "iopub.status.busy": "2023-08-02T05:15:33.166158Z",
     "iopub.status.idle": "2023-08-02T05:15:34.722236Z",
     "shell.execute_reply": "2023-08-02T05:15:34.721228Z"
    },
    "papermill": {
     "duration": 1.569679,
     "end_time": "2023-08-02T05:15:34.724812",
     "exception": false,
     "start_time": "2023-08-02T05:15:33.155133",
     "status": "completed"
    },
    "tags": []
   },
   "outputs": [],
   "source": [
    "from sklearn.experimental import enable_iterative_imputer\n",
    "from sklearn.feature_extraction.text import TfidfVectorizer\n",
    "from sklearn.impute import IterativeImputer\n",
    "from sklearn.preprocessing import OneHotEncoder, StandardScaler\n",
    "from sklearn.compose import ColumnTransformer\n",
    "from sklearn.pipeline import Pipeline"
   ]
  },
  {
   "cell_type": "code",
   "execution_count": 10,
   "id": "54e24e8e",
   "metadata": {
    "execution": {
     "iopub.execute_input": "2023-08-02T05:15:34.746606Z",
     "iopub.status.busy": "2023-08-02T05:15:34.746201Z",
     "iopub.status.idle": "2023-08-02T05:15:35.650270Z",
     "shell.execute_reply": "2023-08-02T05:15:35.649159Z"
    },
    "papermill": {
     "duration": 0.918027,
     "end_time": "2023-08-02T05:15:35.652790",
     "exception": false,
     "start_time": "2023-08-02T05:15:34.734763",
     "status": "completed"
    },
    "tags": []
   },
   "outputs": [],
   "source": [
    "merged_df = merged_df.sample(frac=1).reset_index(drop=True) #shuffle the rows"
   ]
  },
  {
   "cell_type": "code",
   "execution_count": 11,
   "id": "09085184",
   "metadata": {
    "execution": {
     "iopub.execute_input": "2023-08-02T05:15:35.674110Z",
     "iopub.status.busy": "2023-08-02T05:15:35.673707Z",
     "iopub.status.idle": "2023-08-02T05:15:35.769475Z",
     "shell.execute_reply": "2023-08-02T05:15:35.768555Z"
    },
    "papermill": {
     "duration": 0.109223,
     "end_time": "2023-08-02T05:15:35.771755",
     "exception": false,
     "start_time": "2023-08-02T05:15:35.662532",
     "status": "completed"
    },
    "tags": []
   },
   "outputs": [],
   "source": [
    "features = merged_df.iloc[:, :-1]\n",
    "labels = merged_df.iloc[:, -1]"
   ]
  },
  {
   "cell_type": "code",
   "execution_count": 12,
   "id": "ca915f59",
   "metadata": {
    "execution": {
     "iopub.execute_input": "2023-08-02T05:15:35.793533Z",
     "iopub.status.busy": "2023-08-02T05:15:35.793179Z",
     "iopub.status.idle": "2023-08-02T05:15:35.835549Z",
     "shell.execute_reply": "2023-08-02T05:15:35.834664Z"
    },
    "papermill": {
     "duration": 0.055906,
     "end_time": "2023-08-02T05:15:35.837932",
     "exception": false,
     "start_time": "2023-08-02T05:15:35.782026",
     "status": "completed"
    },
    "tags": []
   },
   "outputs": [
    {
     "data": {
      "text/plain": [
       "POSITIVE    348093\n",
       "NEGATIVE    173105\n",
       "Name: sentiment, dtype: int64"
      ]
     },
     "execution_count": 12,
     "metadata": {},
     "output_type": "execute_result"
    }
   ],
   "source": [
    "labels.value_counts()"
   ]
  },
  {
   "cell_type": "code",
   "execution_count": 13,
   "id": "43fac810",
   "metadata": {
    "execution": {
     "iopub.execute_input": "2023-08-02T05:15:35.860174Z",
     "iopub.status.busy": "2023-08-02T05:15:35.858977Z",
     "iopub.status.idle": "2023-08-02T05:15:35.863834Z",
     "shell.execute_reply": "2023-08-02T05:15:35.863013Z"
    },
    "papermill": {
     "duration": 0.018006,
     "end_time": "2023-08-02T05:15:35.865829",
     "exception": false,
     "start_time": "2023-08-02T05:15:35.847823",
     "status": "completed"
    },
    "tags": []
   },
   "outputs": [],
   "source": [
    "from sklearn.model_selection import train_test_split"
   ]
  },
  {
   "cell_type": "code",
   "execution_count": 14,
   "id": "edf2415f",
   "metadata": {
    "execution": {
     "iopub.execute_input": "2023-08-02T05:15:35.887264Z",
     "iopub.status.busy": "2023-08-02T05:15:35.886637Z",
     "iopub.status.idle": "2023-08-02T05:15:36.422470Z",
     "shell.execute_reply": "2023-08-02T05:15:36.421397Z"
    },
    "papermill": {
     "duration": 0.549531,
     "end_time": "2023-08-02T05:15:36.425073",
     "exception": false,
     "start_time": "2023-08-02T05:15:35.875542",
     "status": "completed"
    },
    "tags": []
   },
   "outputs": [],
   "source": [
    "X_train, X_val, y_train, y_val = train_test_split(features, labels, test_size=0.05)"
   ]
  },
  {
   "cell_type": "code",
   "execution_count": 15,
   "id": "8d236a26",
   "metadata": {
    "execution": {
     "iopub.execute_input": "2023-08-02T05:15:36.447083Z",
     "iopub.status.busy": "2023-08-02T05:15:36.446445Z",
     "iopub.status.idle": "2023-08-02T05:15:36.451656Z",
     "shell.execute_reply": "2023-08-02T05:15:36.450751Z"
    },
    "papermill": {
     "duration": 0.018559,
     "end_time": "2023-08-02T05:15:36.453961",
     "exception": false,
     "start_time": "2023-08-02T05:15:36.435402",
     "status": "completed"
    },
    "tags": []
   },
   "outputs": [],
   "source": [
    "num_pipe = Pipeline(\n",
    "    [\n",
    "        (\"impute\", IterativeImputer(initial_strategy=\"most_frequent\", imputation_order=\"ascending\", max_iter=50)),\n",
    "        (\"scaler\", StandardScaler()),\n",
    "    ]\n",
    ")"
   ]
  },
  {
   "cell_type": "code",
   "execution_count": 16,
   "id": "8014deda",
   "metadata": {
    "execution": {
     "iopub.execute_input": "2023-08-02T05:15:36.475112Z",
     "iopub.status.busy": "2023-08-02T05:15:36.474406Z",
     "iopub.status.idle": "2023-08-02T05:16:45.226147Z",
     "shell.execute_reply": "2023-08-02T05:16:45.225015Z"
    },
    "papermill": {
     "duration": 68.775571,
     "end_time": "2023-08-02T05:16:45.239035",
     "exception": false,
     "start_time": "2023-08-02T05:15:36.463464",
     "status": "completed"
    },
    "tags": []
   },
   "outputs": [
    {
     "name": "stderr",
     "output_type": "stream",
     "text": [
      "/opt/conda/lib/python3.10/site-packages/sklearn/impute/_iterative.py:785: ConvergenceWarning: [IterativeImputer] Early stopping criterion not reached.\n",
      "  warnings.warn(\n"
     ]
    }
   ],
   "source": [
    "num_feat_train = num_pipe.fit_transform(\n",
    "    X_train[[\"audienceScore\", \"runtimeMinutes\", \"boxOffice\", \"audienceScore\", \"runtimeMinutes\"]]\n",
    ")"
   ]
  },
  {
   "cell_type": "code",
   "execution_count": 17,
   "id": "c0b82a02",
   "metadata": {
    "execution": {
     "iopub.execute_input": "2023-08-02T05:16:45.261092Z",
     "iopub.status.busy": "2023-08-02T05:16:45.260594Z",
     "iopub.status.idle": "2023-08-02T05:16:45.266992Z",
     "shell.execute_reply": "2023-08-02T05:16:45.266019Z"
    },
    "papermill": {
     "duration": 0.019984,
     "end_time": "2023-08-02T05:16:45.269109",
     "exception": false,
     "start_time": "2023-08-02T05:16:45.249125",
     "status": "completed"
    },
    "tags": []
   },
   "outputs": [],
   "source": [
    "from scipy.sparse import csr_matrix, hstack"
   ]
  },
  {
   "cell_type": "code",
   "execution_count": 18,
   "id": "533d298c",
   "metadata": {
    "execution": {
     "iopub.execute_input": "2023-08-02T05:16:45.291236Z",
     "iopub.status.busy": "2023-08-02T05:16:45.290622Z",
     "iopub.status.idle": "2023-08-02T05:16:45.396067Z",
     "shell.execute_reply": "2023-08-02T05:16:45.394979Z"
    },
    "papermill": {
     "duration": 0.119475,
     "end_time": "2023-08-02T05:16:45.398668",
     "exception": false,
     "start_time": "2023-08-02T05:16:45.279193",
     "status": "completed"
    },
    "tags": []
   },
   "outputs": [],
   "source": [
    "num_feat_train_csr = csr_matrix(num_feat_train)"
   ]
  },
  {
   "cell_type": "code",
   "execution_count": 19,
   "id": "a9e97b42",
   "metadata": {
    "execution": {
     "iopub.execute_input": "2023-08-02T05:16:45.421725Z",
     "iopub.status.busy": "2023-08-02T05:16:45.421319Z",
     "iopub.status.idle": "2023-08-02T05:16:46.195632Z",
     "shell.execute_reply": "2023-08-02T05:16:46.194444Z"
    },
    "papermill": {
     "duration": 0.78906,
     "end_time": "2023-08-02T05:16:46.198210",
     "exception": false,
     "start_time": "2023-08-02T05:16:45.409150",
     "status": "completed"
    },
    "tags": []
   },
   "outputs": [],
   "source": [
    "oh_pipe = Pipeline(\n",
    "    [\n",
    "        (\"oh-enc\", OneHotEncoder(handle_unknown=\"ignore\")),\n",
    "    ]\n",
    ")\n",
    "\n",
    "oh_enc_cols = oh_pipe.fit_transform(\n",
    "    X_train[[\"rating\", \"genre\", \"originalLanguage\", \"distributor\", \"soundType\"]]\n",
    ")"
   ]
  },
  {
   "cell_type": "code",
   "execution_count": 20,
   "id": "8d52963d",
   "metadata": {
    "execution": {
     "iopub.execute_input": "2023-08-02T05:16:46.220137Z",
     "iopub.status.busy": "2023-08-02T05:16:46.219703Z",
     "iopub.status.idle": "2023-08-02T05:16:46.224439Z",
     "shell.execute_reply": "2023-08-02T05:16:46.223443Z"
    },
    "papermill": {
     "duration": 0.018591,
     "end_time": "2023-08-02T05:16:46.226842",
     "exception": false,
     "start_time": "2023-08-02T05:16:46.208251",
     "status": "completed"
    },
    "tags": []
   },
   "outputs": [],
   "source": [
    "oh_enc_cols_csr = csr_matrix(oh_enc_cols)"
   ]
  },
  {
   "cell_type": "code",
   "execution_count": 21,
   "id": "cb5f1a15",
   "metadata": {
    "execution": {
     "iopub.execute_input": "2023-08-02T05:16:46.249125Z",
     "iopub.status.busy": "2023-08-02T05:16:46.248012Z",
     "iopub.status.idle": "2023-08-02T05:17:54.566274Z",
     "shell.execute_reply": "2023-08-02T05:17:54.565310Z"
    },
    "papermill": {
     "duration": 68.332064,
     "end_time": "2023-08-02T05:17:54.568772",
     "exception": false,
     "start_time": "2023-08-02T05:16:46.236708",
     "status": "completed"
    },
    "tags": []
   },
   "outputs": [
    {
     "name": "stdout",
     "output_type": "stream",
     "text": [
      "(495138, 39156)\n",
      "(495138, 17103)\n",
      "(495138, 21254)\n",
      "(495138, 6720)\n",
      "(495138, 3850094)\n"
     ]
    }
   ],
   "source": [
    "from scipy.sparse import csr_matrix, hstack\n",
    "\n",
    "X_train[\"title\"] = X_train[\"title\"].fillna(\"\")\n",
    "title_vec = TfidfVectorizer(stop_words=\"english\", lowercase=True, ngram_range=(1, 3))\n",
    "title_mat = title_vec.fit_transform(X_train[\"title\"])\n",
    "\n",
    "X_train[\"ratingContents\"] = X_train[\"ratingContents\"].fillna(\"\")\n",
    "ratingContents_vec = TfidfVectorizer(stop_words=\"english\", lowercase=True, ngram_range=(1, 4))\n",
    "ratingContents_mat = ratingContents_vec.fit_transform(X_train[\"ratingContents\"])\n",
    "\n",
    "X_train[\"director\"] = X_train[\"director\"].fillna(\"\")\n",
    "director_vec = TfidfVectorizer(stop_words=\"english\", lowercase=True, ngram_range=(1, 3))\n",
    "director_mat = director_vec.fit_transform(X_train[\"director\"])\n",
    "\n",
    "X_train[\"reviewerName\"] = X_train[\"reviewerName\"].fillna(\"\")\n",
    "reviewerName_vec = TfidfVectorizer(stop_words=\"english\", lowercase=True, ngram_range=(1, 3))\n",
    "reviewerName_mat = reviewerName_vec.fit_transform(X_train[\"reviewerName\"])\n",
    "\n",
    "X_train[\"reviewText\"] = X_train[\"reviewText\"].fillna(\"\")\n",
    "reviewText_vec = TfidfVectorizer(stop_words=\"english\", lowercase=True, ngram_range=(1, 4))\n",
    "reviewText_mat = reviewText_vec.fit_transform(X_train[\"reviewText\"])\n",
    "\n",
    "print(title_mat.shape)\n",
    "print(ratingContents_mat.shape)\n",
    "print(director_mat.shape)\n",
    "print(reviewerName_mat.shape)\n",
    "print(reviewText_mat.shape)\n",
    "\n",
    "result_train = hstack(\n",
    "    (\n",
    "        title_mat,\n",
    "        ratingContents_mat,\n",
    "        director_mat,\n",
    "        reviewerName_mat,\n",
    "        reviewText_mat,\n",
    "    )\n",
    ")"
   ]
  },
  {
   "cell_type": "code",
   "execution_count": 22,
   "id": "7f7afa54",
   "metadata": {
    "execution": {
     "iopub.execute_input": "2023-08-02T05:17:54.591707Z",
     "iopub.status.busy": "2023-08-02T05:17:54.591305Z",
     "iopub.status.idle": "2023-08-02T05:17:55.170928Z",
     "shell.execute_reply": "2023-08-02T05:17:55.169781Z"
    },
    "papermill": {
     "duration": 0.59424,
     "end_time": "2023-08-02T05:17:55.173811",
     "exception": false,
     "start_time": "2023-08-02T05:17:54.579571",
     "status": "completed"
    },
    "tags": []
   },
   "outputs": [],
   "source": [
    "concatenated_matrix_train = hstack(\n",
    "    (\n",
    "        result_train, \n",
    "        num_feat_train_csr,\n",
    "        oh_enc_cols_csr,\n",
    "    )\n",
    ")"
   ]
  },
  {
   "cell_type": "code",
   "execution_count": 23,
   "id": "c867fa5c",
   "metadata": {
    "execution": {
     "iopub.execute_input": "2023-08-02T05:17:55.195889Z",
     "iopub.status.busy": "2023-08-02T05:17:55.195460Z",
     "iopub.status.idle": "2023-08-02T05:17:55.315736Z",
     "shell.execute_reply": "2023-08-02T05:17:55.314504Z"
    },
    "papermill": {
     "duration": 0.13416,
     "end_time": "2023-08-02T05:17:55.318214",
     "exception": false,
     "start_time": "2023-08-02T05:17:55.184054",
     "status": "completed"
    },
    "tags": []
   },
   "outputs": [],
   "source": [
    "from sklearn.preprocessing import LabelEncoder\n",
    "\n",
    "l_enc = LabelEncoder()\n",
    "l_enc.fit(y_train)\n",
    "y_train_pre = l_enc.transform(y_train)"
   ]
  },
  {
   "cell_type": "code",
   "execution_count": 24,
   "id": "5c9c77b5",
   "metadata": {
    "execution": {
     "iopub.execute_input": "2023-08-02T05:17:55.340171Z",
     "iopub.status.busy": "2023-08-02T05:17:55.339751Z",
     "iopub.status.idle": "2023-08-02T05:17:55.344741Z",
     "shell.execute_reply": "2023-08-02T05:17:55.343667Z"
    },
    "papermill": {
     "duration": 0.018632,
     "end_time": "2023-08-02T05:17:55.346878",
     "exception": false,
     "start_time": "2023-08-02T05:17:55.328246",
     "status": "completed"
    },
    "tags": []
   },
   "outputs": [],
   "source": [
    "from sklearn.linear_model import LogisticRegression"
   ]
  },
  {
   "cell_type": "code",
   "execution_count": 25,
   "id": "6427a00c",
   "metadata": {
    "execution": {
     "iopub.execute_input": "2023-08-02T05:17:55.369736Z",
     "iopub.status.busy": "2023-08-02T05:17:55.368665Z",
     "iopub.status.idle": "2023-08-02T05:17:55.373571Z",
     "shell.execute_reply": "2023-08-02T05:17:55.372589Z"
    },
    "papermill": {
     "duration": 0.01829,
     "end_time": "2023-08-02T05:17:55.375766",
     "exception": false,
     "start_time": "2023-08-02T05:17:55.357476",
     "status": "completed"
    },
    "tags": []
   },
   "outputs": [],
   "source": [
    "logit = LogisticRegression(\n",
    "    n_jobs=-1, C=10, solver=\"sag\", max_iter=5000\n",
    ")"
   ]
  },
  {
   "cell_type": "code",
   "execution_count": 26,
   "id": "9482aae0",
   "metadata": {
    "execution": {
     "iopub.execute_input": "2023-08-02T05:17:55.397455Z",
     "iopub.status.busy": "2023-08-02T05:17:55.397070Z",
     "iopub.status.idle": "2023-08-02T05:22:29.584010Z",
     "shell.execute_reply": "2023-08-02T05:22:29.582729Z"
    },
    "papermill": {
     "duration": 274.2143,
     "end_time": "2023-08-02T05:22:29.600144",
     "exception": false,
     "start_time": "2023-08-02T05:17:55.385844",
     "status": "completed"
    },
    "tags": []
   },
   "outputs": [
    {
     "data": {
      "text/html": [
       "<style>#sk-container-id-1 {color: black;background-color: white;}#sk-container-id-1 pre{padding: 0;}#sk-container-id-1 div.sk-toggleable {background-color: white;}#sk-container-id-1 label.sk-toggleable__label {cursor: pointer;display: block;width: 100%;margin-bottom: 0;padding: 0.3em;box-sizing: border-box;text-align: center;}#sk-container-id-1 label.sk-toggleable__label-arrow:before {content: \"▸\";float: left;margin-right: 0.25em;color: #696969;}#sk-container-id-1 label.sk-toggleable__label-arrow:hover:before {color: black;}#sk-container-id-1 div.sk-estimator:hover label.sk-toggleable__label-arrow:before {color: black;}#sk-container-id-1 div.sk-toggleable__content {max-height: 0;max-width: 0;overflow: hidden;text-align: left;background-color: #f0f8ff;}#sk-container-id-1 div.sk-toggleable__content pre {margin: 0.2em;color: black;border-radius: 0.25em;background-color: #f0f8ff;}#sk-container-id-1 input.sk-toggleable__control:checked~div.sk-toggleable__content {max-height: 200px;max-width: 100%;overflow: auto;}#sk-container-id-1 input.sk-toggleable__control:checked~label.sk-toggleable__label-arrow:before {content: \"▾\";}#sk-container-id-1 div.sk-estimator input.sk-toggleable__control:checked~label.sk-toggleable__label {background-color: #d4ebff;}#sk-container-id-1 div.sk-label input.sk-toggleable__control:checked~label.sk-toggleable__label {background-color: #d4ebff;}#sk-container-id-1 input.sk-hidden--visually {border: 0;clip: rect(1px 1px 1px 1px);clip: rect(1px, 1px, 1px, 1px);height: 1px;margin: -1px;overflow: hidden;padding: 0;position: absolute;width: 1px;}#sk-container-id-1 div.sk-estimator {font-family: monospace;background-color: #f0f8ff;border: 1px dotted black;border-radius: 0.25em;box-sizing: border-box;margin-bottom: 0.5em;}#sk-container-id-1 div.sk-estimator:hover {background-color: #d4ebff;}#sk-container-id-1 div.sk-parallel-item::after {content: \"\";width: 100%;border-bottom: 1px solid gray;flex-grow: 1;}#sk-container-id-1 div.sk-label:hover label.sk-toggleable__label {background-color: #d4ebff;}#sk-container-id-1 div.sk-serial::before {content: \"\";position: absolute;border-left: 1px solid gray;box-sizing: border-box;top: 0;bottom: 0;left: 50%;z-index: 0;}#sk-container-id-1 div.sk-serial {display: flex;flex-direction: column;align-items: center;background-color: white;padding-right: 0.2em;padding-left: 0.2em;position: relative;}#sk-container-id-1 div.sk-item {position: relative;z-index: 1;}#sk-container-id-1 div.sk-parallel {display: flex;align-items: stretch;justify-content: center;background-color: white;position: relative;}#sk-container-id-1 div.sk-item::before, #sk-container-id-1 div.sk-parallel-item::before {content: \"\";position: absolute;border-left: 1px solid gray;box-sizing: border-box;top: 0;bottom: 0;left: 50%;z-index: -1;}#sk-container-id-1 div.sk-parallel-item {display: flex;flex-direction: column;z-index: 1;position: relative;background-color: white;}#sk-container-id-1 div.sk-parallel-item:first-child::after {align-self: flex-end;width: 50%;}#sk-container-id-1 div.sk-parallel-item:last-child::after {align-self: flex-start;width: 50%;}#sk-container-id-1 div.sk-parallel-item:only-child::after {width: 0;}#sk-container-id-1 div.sk-dashed-wrapped {border: 1px dashed gray;margin: 0 0.4em 0.5em 0.4em;box-sizing: border-box;padding-bottom: 0.4em;background-color: white;}#sk-container-id-1 div.sk-label label {font-family: monospace;font-weight: bold;display: inline-block;line-height: 1.2em;}#sk-container-id-1 div.sk-label-container {text-align: center;}#sk-container-id-1 div.sk-container {/* jupyter's `normalize.less` sets `[hidden] { display: none; }` but bootstrap.min.css set `[hidden] { display: none !important; }` so we also need the `!important` here to be able to override the default hidden behavior on the sphinx rendered scikit-learn.org. See: https://github.com/scikit-learn/scikit-learn/issues/21755 */display: inline-block !important;position: relative;}#sk-container-id-1 div.sk-text-repr-fallback {display: none;}</style><div id=\"sk-container-id-1\" class=\"sk-top-container\"><div class=\"sk-text-repr-fallback\"><pre>LogisticRegression(C=10, max_iter=5000, n_jobs=-1, solver=&#x27;sag&#x27;)</pre><b>In a Jupyter environment, please rerun this cell to show the HTML representation or trust the notebook. <br />On GitHub, the HTML representation is unable to render, please try loading this page with nbviewer.org.</b></div><div class=\"sk-container\" hidden><div class=\"sk-item\"><div class=\"sk-estimator sk-toggleable\"><input class=\"sk-toggleable__control sk-hidden--visually\" id=\"sk-estimator-id-1\" type=\"checkbox\" checked><label for=\"sk-estimator-id-1\" class=\"sk-toggleable__label sk-toggleable__label-arrow\">LogisticRegression</label><div class=\"sk-toggleable__content\"><pre>LogisticRegression(C=10, max_iter=5000, n_jobs=-1, solver=&#x27;sag&#x27;)</pre></div></div></div></div></div>"
      ],
      "text/plain": [
       "LogisticRegression(C=10, max_iter=5000, n_jobs=-1, solver='sag')"
      ]
     },
     "execution_count": 26,
     "metadata": {},
     "output_type": "execute_result"
    }
   ],
   "source": [
    "logit.fit(concatenated_matrix_train, y_train_pre)"
   ]
  },
  {
   "cell_type": "code",
   "execution_count": 27,
   "id": "f92f873e",
   "metadata": {
    "_kg_hide-input": false,
    "execution": {
     "iopub.execute_input": "2023-08-02T05:22:29.623387Z",
     "iopub.status.busy": "2023-08-02T05:22:29.622342Z",
     "iopub.status.idle": "2023-08-02T05:22:29.984798Z",
     "shell.execute_reply": "2023-08-02T05:22:29.983339Z"
    },
    "papermill": {
     "duration": 0.376755,
     "end_time": "2023-08-02T05:22:29.987458",
     "exception": false,
     "start_time": "2023-08-02T05:22:29.610703",
     "status": "completed"
    },
    "tags": []
   },
   "outputs": [],
   "source": [
    "test_data = pd.read_csv(\"/kaggle/input/sentiment-prediction-on-movie-reviews/test.csv\")"
   ]
  },
  {
   "cell_type": "code",
   "execution_count": 28,
   "id": "7c466300",
   "metadata": {
    "execution": {
     "iopub.execute_input": "2023-08-02T05:22:30.010633Z",
     "iopub.status.busy": "2023-08-02T05:22:30.010236Z",
     "iopub.status.idle": "2023-08-02T05:22:30.065049Z",
     "shell.execute_reply": "2023-08-02T05:22:30.063932Z"
    },
    "papermill": {
     "duration": 0.069453,
     "end_time": "2023-08-02T05:22:30.067703",
     "exception": false,
     "start_time": "2023-08-02T05:22:29.998250",
     "status": "completed"
    },
    "tags": []
   },
   "outputs": [],
   "source": [
    "metadata = metadata.drop_duplicates(\"movieid\")"
   ]
  },
  {
   "cell_type": "code",
   "execution_count": 29,
   "id": "f99a5263",
   "metadata": {
    "execution": {
     "iopub.execute_input": "2023-08-02T05:22:30.090113Z",
     "iopub.status.busy": "2023-08-02T05:22:30.089757Z",
     "iopub.status.idle": "2023-08-02T05:22:30.225666Z",
     "shell.execute_reply": "2023-08-02T05:22:30.224603Z"
    },
    "papermill": {
     "duration": 0.149526,
     "end_time": "2023-08-02T05:22:30.227679",
     "exception": false,
     "start_time": "2023-08-02T05:22:30.078153",
     "status": "completed"
    },
    "tags": []
   },
   "outputs": [
    {
     "name": "stdout",
     "output_type": "stream",
     "text": [
      "(55315, 17)\n"
     ]
    }
   ],
   "source": [
    "merged_data_test = pd.merge(test_data, \n",
    "                       metadata, on=\"movieid\", how=\"left\")\n",
    "\n",
    "print(merged_data_test.shape)"
   ]
  },
  {
   "cell_type": "code",
   "execution_count": 30,
   "id": "8f911844",
   "metadata": {
    "execution": {
     "iopub.execute_input": "2023-08-02T05:22:30.250572Z",
     "iopub.status.busy": "2023-08-02T05:22:30.249234Z",
     "iopub.status.idle": "2023-08-02T05:22:30.270816Z",
     "shell.execute_reply": "2023-08-02T05:22:30.269538Z"
    },
    "papermill": {
     "duration": 0.035231,
     "end_time": "2023-08-02T05:22:30.273077",
     "exception": false,
     "start_time": "2023-08-02T05:22:30.237846",
     "status": "completed"
    },
    "tags": []
   },
   "outputs": [
    {
     "data": {
      "text/html": [
       "<div>\n",
       "<style scoped>\n",
       "    .dataframe tbody tr th:only-of-type {\n",
       "        vertical-align: middle;\n",
       "    }\n",
       "\n",
       "    .dataframe tbody tr th {\n",
       "        vertical-align: top;\n",
       "    }\n",
       "\n",
       "    .dataframe thead th {\n",
       "        text-align: right;\n",
       "    }\n",
       "</style>\n",
       "<table border=\"1\" class=\"dataframe\">\n",
       "  <thead>\n",
       "    <tr style=\"text-align: right;\">\n",
       "      <th></th>\n",
       "      <th>movieid</th>\n",
       "      <th>reviewerName</th>\n",
       "      <th>isTopCritic</th>\n",
       "      <th>reviewText</th>\n",
       "      <th>title</th>\n",
       "      <th>audienceScore</th>\n",
       "      <th>rating</th>\n",
       "      <th>ratingContents</th>\n",
       "      <th>releaseDateTheaters</th>\n",
       "      <th>releaseDateStreaming</th>\n",
       "      <th>runtimeMinutes</th>\n",
       "      <th>genre</th>\n",
       "      <th>originalLanguage</th>\n",
       "      <th>director</th>\n",
       "      <th>boxOffice</th>\n",
       "      <th>distributor</th>\n",
       "      <th>soundType</th>\n",
       "    </tr>\n",
       "  </thead>\n",
       "  <tbody>\n",
       "    <tr>\n",
       "      <th>0</th>\n",
       "      <td>legend_marty_mcfly_oracle</td>\n",
       "      <td>John Kim</td>\n",
       "      <td>False</td>\n",
       "      <td>Green slowly cranks up the dread with style an...</td>\n",
       "      <td>Legend Marty McFly Oracle</td>\n",
       "      <td>57.0</td>\n",
       "      <td>R</td>\n",
       "      <td>['Gore', 'Bloody Horror Violence', 'Language T...</td>\n",
       "      <td>2022-10-14</td>\n",
       "      <td>2022-10-14</td>\n",
       "      <td>111.0</td>\n",
       "      <td>Holiday, Horror, Mystery &amp; thriller</td>\n",
       "      <td>English</td>\n",
       "      <td>Sara Barnett</td>\n",
       "      <td>$64.0M</td>\n",
       "      <td>Universal Pictures</td>\n",
       "      <td>Dolby Atmos</td>\n",
       "    </tr>\n",
       "    <tr>\n",
       "      <th>1</th>\n",
       "      <td>terminator_katniss_everdeen_glimmer</td>\n",
       "      <td>Brian Chaney</td>\n",
       "      <td>False</td>\n",
       "      <td>Philip Noyce's direction is elegant and unforc...</td>\n",
       "      <td>Terminator Katniss Everdeen Glimmer</td>\n",
       "      <td>86.0</td>\n",
       "      <td>PG</td>\n",
       "      <td>['Emotional Thematic Material']</td>\n",
       "      <td>2002-11-29</td>\n",
       "      <td>2003-04-15</td>\n",
       "      <td>94.0</td>\n",
       "      <td>Drama, Adventure</td>\n",
       "      <td>English</td>\n",
       "      <td>Cindy Flander</td>\n",
       "      <td>$6.2M</td>\n",
       "      <td>Miramax Films</td>\n",
       "      <td>Dolby SR, DTS, Dolby Stereo, Surround, SDDS, D...</td>\n",
       "    </tr>\n",
       "    <tr>\n",
       "      <th>2</th>\n",
       "      <td>james_bond_labyrinth_gollum</td>\n",
       "      <td>Danielle Parker</td>\n",
       "      <td>False</td>\n",
       "      <td>It wouldn't do to say what path Maria ultimate...</td>\n",
       "      <td>James Bond Labyrinth Gollum</td>\n",
       "      <td>62.0</td>\n",
       "      <td>NaN</td>\n",
       "      <td>NaN</td>\n",
       "      <td>NaN</td>\n",
       "      <td>NaN</td>\n",
       "      <td>NaN</td>\n",
       "      <td>Drama</td>\n",
       "      <td>French</td>\n",
       "      <td>Charlotte Bramble</td>\n",
       "      <td>NaN</td>\n",
       "      <td>NaN</td>\n",
       "      <td>NaN</td>\n",
       "    </tr>\n",
       "    <tr>\n",
       "      <th>3</th>\n",
       "      <td>v_quest_han_solo_wondrous</td>\n",
       "      <td>Brittany Lane</td>\n",
       "      <td>False</td>\n",
       "      <td>Pig is not exactly the arthouse John Wick that...</td>\n",
       "      <td>V Quest Han Solo Wondrous</td>\n",
       "      <td>84.0</td>\n",
       "      <td>NaN</td>\n",
       "      <td>NaN</td>\n",
       "      <td>2021-07-16</td>\n",
       "      <td>2021-08-03</td>\n",
       "      <td>92.0</td>\n",
       "      <td>Drama, Mystery &amp; thriller</td>\n",
       "      <td>English</td>\n",
       "      <td>Jean Gainer</td>\n",
       "      <td>$3.1M</td>\n",
       "      <td>Neon</td>\n",
       "      <td>NaN</td>\n",
       "    </tr>\n",
       "    <tr>\n",
       "      <th>4</th>\n",
       "      <td>enigma_hulk_surreal_starlight</td>\n",
       "      <td>Justin Willis</td>\n",
       "      <td>False</td>\n",
       "      <td>An imaginative no-budget musical of sorts abou...</td>\n",
       "      <td>Enigma Hulk Surreal Starlight</td>\n",
       "      <td>NaN</td>\n",
       "      <td>NaN</td>\n",
       "      <td>NaN</td>\n",
       "      <td>NaN</td>\n",
       "      <td>NaN</td>\n",
       "      <td>66.0</td>\n",
       "      <td>Drama, Musical</td>\n",
       "      <td>Arabic</td>\n",
       "      <td>Marvin Short</td>\n",
       "      <td>NaN</td>\n",
       "      <td>NaN</td>\n",
       "      <td>NaN</td>\n",
       "    </tr>\n",
       "  </tbody>\n",
       "</table>\n",
       "</div>"
      ],
      "text/plain": [
       "                               movieid     reviewerName  isTopCritic  \\\n",
       "0            legend_marty_mcfly_oracle         John Kim        False   \n",
       "1  terminator_katniss_everdeen_glimmer     Brian Chaney        False   \n",
       "2          james_bond_labyrinth_gollum  Danielle Parker        False   \n",
       "3            v_quest_han_solo_wondrous    Brittany Lane        False   \n",
       "4        enigma_hulk_surreal_starlight    Justin Willis        False   \n",
       "\n",
       "                                          reviewText  \\\n",
       "0  Green slowly cranks up the dread with style an...   \n",
       "1  Philip Noyce's direction is elegant and unforc...   \n",
       "2  It wouldn't do to say what path Maria ultimate...   \n",
       "3  Pig is not exactly the arthouse John Wick that...   \n",
       "4  An imaginative no-budget musical of sorts abou...   \n",
       "\n",
       "                                 title  audienceScore rating  \\\n",
       "0            Legend Marty McFly Oracle           57.0      R   \n",
       "1  Terminator Katniss Everdeen Glimmer           86.0     PG   \n",
       "2          James Bond Labyrinth Gollum           62.0    NaN   \n",
       "3            V Quest Han Solo Wondrous           84.0    NaN   \n",
       "4        Enigma Hulk Surreal Starlight            NaN    NaN   \n",
       "\n",
       "                                      ratingContents releaseDateTheaters  \\\n",
       "0  ['Gore', 'Bloody Horror Violence', 'Language T...          2022-10-14   \n",
       "1                    ['Emotional Thematic Material']          2002-11-29   \n",
       "2                                                NaN                 NaN   \n",
       "3                                                NaN          2021-07-16   \n",
       "4                                                NaN                 NaN   \n",
       "\n",
       "  releaseDateStreaming  runtimeMinutes                                genre  \\\n",
       "0           2022-10-14           111.0  Holiday, Horror, Mystery & thriller   \n",
       "1           2003-04-15            94.0                     Drama, Adventure   \n",
       "2                  NaN             NaN                                Drama   \n",
       "3           2021-08-03            92.0            Drama, Mystery & thriller   \n",
       "4                  NaN            66.0                       Drama, Musical   \n",
       "\n",
       "  originalLanguage           director boxOffice         distributor  \\\n",
       "0          English       Sara Barnett    $64.0M  Universal Pictures   \n",
       "1          English      Cindy Flander     $6.2M       Miramax Films   \n",
       "2           French  Charlotte Bramble       NaN                 NaN   \n",
       "3          English        Jean Gainer     $3.1M                Neon   \n",
       "4           Arabic       Marvin Short       NaN                 NaN   \n",
       "\n",
       "                                           soundType  \n",
       "0                                        Dolby Atmos  \n",
       "1  Dolby SR, DTS, Dolby Stereo, Surround, SDDS, D...  \n",
       "2                                                NaN  \n",
       "3                                                NaN  \n",
       "4                                                NaN  "
      ]
     },
     "execution_count": 30,
     "metadata": {},
     "output_type": "execute_result"
    }
   ],
   "source": [
    "merged_data_test.head()"
   ]
  },
  {
   "cell_type": "code",
   "execution_count": 31,
   "id": "0fe9a042",
   "metadata": {
    "execution": {
     "iopub.execute_input": "2023-08-02T05:22:30.296182Z",
     "iopub.status.busy": "2023-08-02T05:22:30.295786Z",
     "iopub.status.idle": "2023-08-02T05:22:30.439360Z",
     "shell.execute_reply": "2023-08-02T05:22:30.438288Z"
    },
    "papermill": {
     "duration": 0.158139,
     "end_time": "2023-08-02T05:22:30.441967",
     "exception": false,
     "start_time": "2023-08-02T05:22:30.283828",
     "status": "completed"
    },
    "tags": []
   },
   "outputs": [],
   "source": [
    "merged_data_test[\"ratingContents\"] = merged_data_test[\"ratingContents\"].apply(\n",
    "    lambda x: str(x)[1:-1].replace(\",\", \"\").replace(\"'\", \"\")\n",
    ")\n",
    "merged_data_test[\"ratingContents\"] = merged_data_test[\"ratingContents\"].apply(\n",
    "    lambda x: str(x).replace(\",\", \"\").replace(\"'\", \"\")\n",
    ")\n",
    "merged_data_test[\"boxOffice\"] = merged_data_test[\"boxOffice\"].apply(\n",
    "    lambda x: str(x)[:-1].replace(\"$\", \"\")\n",
    ")\n",
    "merged_data_test[\"boxOffice\"] = pd.to_numeric(merged_data_test[\"boxOffice\"], errors=\"coerce\")"
   ]
  },
  {
   "cell_type": "code",
   "execution_count": 32,
   "id": "6083163e",
   "metadata": {
    "execution": {
     "iopub.execute_input": "2023-08-02T05:22:30.465074Z",
     "iopub.status.busy": "2023-08-02T05:22:30.464663Z",
     "iopub.status.idle": "2023-08-02T05:22:30.919075Z",
     "shell.execute_reply": "2023-08-02T05:22:30.917856Z"
    },
    "papermill": {
     "duration": 0.469925,
     "end_time": "2023-08-02T05:22:30.922544",
     "exception": false,
     "start_time": "2023-08-02T05:22:30.452619",
     "status": "completed"
    },
    "tags": []
   },
   "outputs": [],
   "source": [
    "num_feat_test = num_pipe.transform(\n",
    "    merged_data_test[[\"audienceScore\", \"runtimeMinutes\", \"boxOffice\", \"audienceScore\", \"runtimeMinutes\"]]\n",
    ")"
   ]
  },
  {
   "cell_type": "code",
   "execution_count": 33,
   "id": "be2b981d",
   "metadata": {
    "execution": {
     "iopub.execute_input": "2023-08-02T05:22:30.960177Z",
     "iopub.status.busy": "2023-08-02T05:22:30.959626Z",
     "iopub.status.idle": "2023-08-02T05:22:30.981819Z",
     "shell.execute_reply": "2023-08-02T05:22:30.980635Z"
    },
    "papermill": {
     "duration": 0.044799,
     "end_time": "2023-08-02T05:22:30.984976",
     "exception": false,
     "start_time": "2023-08-02T05:22:30.940177",
     "status": "completed"
    },
    "tags": []
   },
   "outputs": [],
   "source": [
    "num_feat_test_csr = csr_matrix(num_feat_test)"
   ]
  },
  {
   "cell_type": "code",
   "execution_count": 34,
   "id": "8a1af4b8",
   "metadata": {
    "execution": {
     "iopub.execute_input": "2023-08-02T05:22:31.023152Z",
     "iopub.status.busy": "2023-08-02T05:22:31.022592Z",
     "iopub.status.idle": "2023-08-02T05:22:31.170864Z",
     "shell.execute_reply": "2023-08-02T05:22:31.169703Z"
    },
    "papermill": {
     "duration": 0.170762,
     "end_time": "2023-08-02T05:22:31.173355",
     "exception": false,
     "start_time": "2023-08-02T05:22:31.002593",
     "status": "completed"
    },
    "tags": []
   },
   "outputs": [],
   "source": [
    "oh_enc_cols_test = oh_pipe.transform(\n",
    "    merged_data_test[[\"rating\", \"genre\", \"originalLanguage\", \"distributor\", \"soundType\"]]\n",
    ")"
   ]
  },
  {
   "cell_type": "code",
   "execution_count": 35,
   "id": "c8d40af2",
   "metadata": {
    "execution": {
     "iopub.execute_input": "2023-08-02T05:22:31.196805Z",
     "iopub.status.busy": "2023-08-02T05:22:31.196411Z",
     "iopub.status.idle": "2023-08-02T05:22:31.201221Z",
     "shell.execute_reply": "2023-08-02T05:22:31.200068Z"
    },
    "papermill": {
     "duration": 0.019075,
     "end_time": "2023-08-02T05:22:31.203250",
     "exception": false,
     "start_time": "2023-08-02T05:22:31.184175",
     "status": "completed"
    },
    "tags": []
   },
   "outputs": [],
   "source": [
    "oh_enc_cols_test_csr = csr_matrix(oh_enc_cols_test)"
   ]
  },
  {
   "cell_type": "code",
   "execution_count": 36,
   "id": "5ef1e7b5",
   "metadata": {
    "execution": {
     "iopub.execute_input": "2023-08-02T05:22:31.226072Z",
     "iopub.status.busy": "2023-08-02T05:22:31.225676Z",
     "iopub.status.idle": "2023-08-02T05:22:36.861892Z",
     "shell.execute_reply": "2023-08-02T05:22:36.860525Z"
    },
    "papermill": {
     "duration": 5.650428,
     "end_time": "2023-08-02T05:22:36.864233",
     "exception": false,
     "start_time": "2023-08-02T05:22:31.213805",
     "status": "completed"
    },
    "tags": []
   },
   "outputs": [
    {
     "name": "stdout",
     "output_type": "stream",
     "text": [
      "(55315, 39156)\n",
      "(55315, 17103)\n",
      "(55315, 21254)\n",
      "(55315, 6720)\n",
      "(55315, 3850094)\n"
     ]
    }
   ],
   "source": [
    "merged_data_test[\"title\"] = merged_data_test[\"title\"].fillna(\"\")\n",
    "title_mat_test = title_vec.transform(merged_data_test[\"title\"])\n",
    "\n",
    "merged_data_test[\"ratingContents\"] = merged_data_test[\"ratingContents\"].fillna(\"\")\n",
    "ratingContents_mat_test = ratingContents_vec.transform(merged_data_test[\"ratingContents\"])\n",
    "\n",
    "merged_data_test[\"director\"] = merged_data_test[\"director\"].fillna(\"\")\n",
    "director_mat_test = director_vec.transform(merged_data_test[\"director\"])\n",
    "\n",
    "merged_data_test[\"reviewerName\"] = merged_data_test[\"reviewerName\"].fillna(\"\")\n",
    "reviewerName_mat_test = reviewerName_vec.transform(merged_data_test[\"reviewerName\"])\n",
    "\n",
    "merged_data_test[\"reviewText\"] = merged_data_test[\"reviewText\"].fillna(\"\")\n",
    "reviewText_mat_test = reviewText_vec.transform(merged_data_test[\"reviewText\"])\n",
    "\n",
    "print(title_mat_test.shape)\n",
    "print(ratingContents_mat_test.shape)\n",
    "print(director_mat_test.shape)\n",
    "print(reviewerName_mat_test.shape)\n",
    "print(reviewText_mat_test.shape)\n",
    "\n",
    "result_test = hstack(\n",
    "    (\n",
    "        title_mat_test,\n",
    "        ratingContents_mat_test,\n",
    "        director_mat_test,\n",
    "        reviewerName_mat_test,\n",
    "        reviewText_mat_test,\n",
    "    )\n",
    ")"
   ]
  },
  {
   "cell_type": "code",
   "execution_count": 37,
   "id": "cfcae9ab",
   "metadata": {
    "execution": {
     "iopub.execute_input": "2023-08-02T05:22:36.887532Z",
     "iopub.status.busy": "2023-08-02T05:22:36.887161Z",
     "iopub.status.idle": "2023-08-02T05:22:36.893527Z",
     "shell.execute_reply": "2023-08-02T05:22:36.892592Z"
    },
    "papermill": {
     "duration": 0.020918,
     "end_time": "2023-08-02T05:22:36.896061",
     "exception": false,
     "start_time": "2023-08-02T05:22:36.875143",
     "status": "completed"
    },
    "tags": []
   },
   "outputs": [
    {
     "data": {
      "text/plain": [
       "(55315, 3934327)"
      ]
     },
     "execution_count": 37,
     "metadata": {},
     "output_type": "execute_result"
    }
   ],
   "source": [
    "result_test.shape"
   ]
  },
  {
   "cell_type": "code",
   "execution_count": 38,
   "id": "06268124",
   "metadata": {
    "execution": {
     "iopub.execute_input": "2023-08-02T05:22:36.919861Z",
     "iopub.status.busy": "2023-08-02T05:22:36.919211Z",
     "iopub.status.idle": "2023-08-02T05:22:36.959202Z",
     "shell.execute_reply": "2023-08-02T05:22:36.957907Z"
    },
    "papermill": {
     "duration": 0.05445,
     "end_time": "2023-08-02T05:22:36.961821",
     "exception": false,
     "start_time": "2023-08-02T05:22:36.907371",
     "status": "completed"
    },
    "tags": []
   },
   "outputs": [],
   "source": [
    "concatenated_matrix_test = hstack(\n",
    "    (\n",
    "        result_test, \n",
    "        num_feat_test_csr,\n",
    "        oh_enc_cols_test_csr,\n",
    "    )\n",
    ")"
   ]
  },
  {
   "cell_type": "code",
   "execution_count": 39,
   "id": "54e912d8",
   "metadata": {
    "execution": {
     "iopub.execute_input": "2023-08-02T05:22:36.986224Z",
     "iopub.status.busy": "2023-08-02T05:22:36.985467Z",
     "iopub.status.idle": "2023-08-02T05:22:37.006372Z",
     "shell.execute_reply": "2023-08-02T05:22:37.005361Z"
    },
    "papermill": {
     "duration": 0.035576,
     "end_time": "2023-08-02T05:22:37.008614",
     "exception": false,
     "start_time": "2023-08-02T05:22:36.973038",
     "status": "completed"
    },
    "tags": []
   },
   "outputs": [],
   "source": [
    "pred = logit.predict(concatenated_matrix_test)"
   ]
  },
  {
   "cell_type": "code",
   "execution_count": 40,
   "id": "c1637930",
   "metadata": {
    "execution": {
     "iopub.execute_input": "2023-08-02T05:22:37.032935Z",
     "iopub.status.busy": "2023-08-02T05:22:37.032002Z",
     "iopub.status.idle": "2023-08-02T05:22:37.240095Z",
     "shell.execute_reply": "2023-08-02T05:22:37.239007Z"
    },
    "papermill": {
     "duration": 0.222513,
     "end_time": "2023-08-02T05:22:37.242289",
     "exception": false,
     "start_time": "2023-08-02T05:22:37.019776",
     "status": "completed"
    },
    "tags": []
   },
   "outputs": [
    {
     "data": {
      "text/html": [
       "<div>\n",
       "<style scoped>\n",
       "    .dataframe tbody tr th:only-of-type {\n",
       "        vertical-align: middle;\n",
       "    }\n",
       "\n",
       "    .dataframe tbody tr th {\n",
       "        vertical-align: top;\n",
       "    }\n",
       "\n",
       "    .dataframe thead th {\n",
       "        text-align: right;\n",
       "    }\n",
       "</style>\n",
       "<table border=\"1\" class=\"dataframe\">\n",
       "  <thead>\n",
       "    <tr style=\"text-align: right;\">\n",
       "      <th></th>\n",
       "      <th>id</th>\n",
       "      <th>sentiment</th>\n",
       "    </tr>\n",
       "  </thead>\n",
       "  <tbody>\n",
       "    <tr>\n",
       "      <th>0</th>\n",
       "      <td>0</td>\n",
       "      <td>1</td>\n",
       "    </tr>\n",
       "    <tr>\n",
       "      <th>1</th>\n",
       "      <td>1</td>\n",
       "      <td>1</td>\n",
       "    </tr>\n",
       "    <tr>\n",
       "      <th>2</th>\n",
       "      <td>2</td>\n",
       "      <td>1</td>\n",
       "    </tr>\n",
       "    <tr>\n",
       "      <th>3</th>\n",
       "      <td>3</td>\n",
       "      <td>1</td>\n",
       "    </tr>\n",
       "    <tr>\n",
       "      <th>4</th>\n",
       "      <td>4</td>\n",
       "      <td>1</td>\n",
       "    </tr>\n",
       "    <tr>\n",
       "      <th>...</th>\n",
       "      <td>...</td>\n",
       "      <td>...</td>\n",
       "    </tr>\n",
       "    <tr>\n",
       "      <th>55310</th>\n",
       "      <td>55310</td>\n",
       "      <td>1</td>\n",
       "    </tr>\n",
       "    <tr>\n",
       "      <th>55311</th>\n",
       "      <td>55311</td>\n",
       "      <td>1</td>\n",
       "    </tr>\n",
       "    <tr>\n",
       "      <th>55312</th>\n",
       "      <td>55312</td>\n",
       "      <td>0</td>\n",
       "    </tr>\n",
       "    <tr>\n",
       "      <th>55313</th>\n",
       "      <td>55313</td>\n",
       "      <td>1</td>\n",
       "    </tr>\n",
       "    <tr>\n",
       "      <th>55314</th>\n",
       "      <td>55314</td>\n",
       "      <td>0</td>\n",
       "    </tr>\n",
       "  </tbody>\n",
       "</table>\n",
       "<p>55315 rows × 2 columns</p>\n",
       "</div>"
      ],
      "text/plain": [
       "          id  sentiment\n",
       "0          0          1\n",
       "1          1          1\n",
       "2          2          1\n",
       "3          3          1\n",
       "4          4          1\n",
       "...      ...        ...\n",
       "55310  55310          1\n",
       "55311  55311          1\n",
       "55312  55312          0\n",
       "55313  55313          1\n",
       "55314  55314          0\n",
       "\n",
       "[55315 rows x 2 columns]"
      ]
     },
     "execution_count": 40,
     "metadata": {},
     "output_type": "execute_result"
    }
   ],
   "source": [
    "prediction_df = pd.DataFrame(zip(range(len(pred)), pred), columns=[\"id\", \"sentiment\"])\n",
    "prediction_df"
   ]
  },
  {
   "cell_type": "code",
   "execution_count": 41,
   "id": "145d0866",
   "metadata": {
    "execution": {
     "iopub.execute_input": "2023-08-02T05:22:37.266191Z",
     "iopub.status.busy": "2023-08-02T05:22:37.265392Z",
     "iopub.status.idle": "2023-08-02T05:22:37.288783Z",
     "shell.execute_reply": "2023-08-02T05:22:37.287519Z"
    },
    "papermill": {
     "duration": 0.037814,
     "end_time": "2023-08-02T05:22:37.291058",
     "exception": false,
     "start_time": "2023-08-02T05:22:37.253244",
     "status": "completed"
    },
    "tags": []
   },
   "outputs": [
    {
     "data": {
      "text/html": [
       "<div>\n",
       "<style scoped>\n",
       "    .dataframe tbody tr th:only-of-type {\n",
       "        vertical-align: middle;\n",
       "    }\n",
       "\n",
       "    .dataframe tbody tr th {\n",
       "        vertical-align: top;\n",
       "    }\n",
       "\n",
       "    .dataframe thead th {\n",
       "        text-align: right;\n",
       "    }\n",
       "</style>\n",
       "<table border=\"1\" class=\"dataframe\">\n",
       "  <thead>\n",
       "    <tr style=\"text-align: right;\">\n",
       "      <th></th>\n",
       "      <th>id</th>\n",
       "      <th>sentiment</th>\n",
       "    </tr>\n",
       "  </thead>\n",
       "  <tbody>\n",
       "    <tr>\n",
       "      <th>0</th>\n",
       "      <td>0</td>\n",
       "      <td>POSITIVE</td>\n",
       "    </tr>\n",
       "    <tr>\n",
       "      <th>1</th>\n",
       "      <td>1</td>\n",
       "      <td>POSITIVE</td>\n",
       "    </tr>\n",
       "    <tr>\n",
       "      <th>2</th>\n",
       "      <td>2</td>\n",
       "      <td>POSITIVE</td>\n",
       "    </tr>\n",
       "    <tr>\n",
       "      <th>3</th>\n",
       "      <td>3</td>\n",
       "      <td>POSITIVE</td>\n",
       "    </tr>\n",
       "    <tr>\n",
       "      <th>4</th>\n",
       "      <td>4</td>\n",
       "      <td>POSITIVE</td>\n",
       "    </tr>\n",
       "    <tr>\n",
       "      <th>...</th>\n",
       "      <td>...</td>\n",
       "      <td>...</td>\n",
       "    </tr>\n",
       "    <tr>\n",
       "      <th>55310</th>\n",
       "      <td>55310</td>\n",
       "      <td>POSITIVE</td>\n",
       "    </tr>\n",
       "    <tr>\n",
       "      <th>55311</th>\n",
       "      <td>55311</td>\n",
       "      <td>POSITIVE</td>\n",
       "    </tr>\n",
       "    <tr>\n",
       "      <th>55312</th>\n",
       "      <td>55312</td>\n",
       "      <td>NEGATIVE</td>\n",
       "    </tr>\n",
       "    <tr>\n",
       "      <th>55313</th>\n",
       "      <td>55313</td>\n",
       "      <td>POSITIVE</td>\n",
       "    </tr>\n",
       "    <tr>\n",
       "      <th>55314</th>\n",
       "      <td>55314</td>\n",
       "      <td>NEGATIVE</td>\n",
       "    </tr>\n",
       "  </tbody>\n",
       "</table>\n",
       "<p>55315 rows × 2 columns</p>\n",
       "</div>"
      ],
      "text/plain": [
       "          id sentiment\n",
       "0          0  POSITIVE\n",
       "1          1  POSITIVE\n",
       "2          2  POSITIVE\n",
       "3          3  POSITIVE\n",
       "4          4  POSITIVE\n",
       "...      ...       ...\n",
       "55310  55310  POSITIVE\n",
       "55311  55311  POSITIVE\n",
       "55312  55312  NEGATIVE\n",
       "55313  55313  POSITIVE\n",
       "55314  55314  NEGATIVE\n",
       "\n",
       "[55315 rows x 2 columns]"
      ]
     },
     "execution_count": 41,
     "metadata": {},
     "output_type": "execute_result"
    }
   ],
   "source": [
    "prediction_df[\"sentiment\"] = prediction_df[\"sentiment\"].apply(lambda x : \"POSITIVE\" if x==1 else \"NEGATIVE\")\n",
    "prediction_df"
   ]
  },
  {
   "cell_type": "code",
   "execution_count": 42,
   "id": "6f1fd0f0",
   "metadata": {
    "execution": {
     "iopub.execute_input": "2023-08-02T05:22:37.315254Z",
     "iopub.status.busy": "2023-08-02T05:22:37.314866Z",
     "iopub.status.idle": "2023-08-02T05:22:37.408875Z",
     "shell.execute_reply": "2023-08-02T05:22:37.407776Z"
    },
    "papermill": {
     "duration": 0.108942,
     "end_time": "2023-08-02T05:22:37.411399",
     "exception": false,
     "start_time": "2023-08-02T05:22:37.302457",
     "status": "completed"
    },
    "tags": []
   },
   "outputs": [],
   "source": [
    "prediction_df.to_csv(\"submission.csv\", index=False)"
   ]
  }
 ],
 "metadata": {
  "kernelspec": {
   "display_name": "Python 3",
   "language": "python",
   "name": "python3"
  },
  "language_info": {
   "codemirror_mode": {
    "name": "ipython",
    "version": 3
   },
   "file_extension": ".py",
   "mimetype": "text/x-python",
   "name": "python",
   "nbconvert_exporter": "python",
   "pygments_lexer": "ipython3",
   "version": "3.10.10"
  },
  "papermill": {
   "default_parameters": {},
   "duration": 440.877936,
   "end_time": "2023-08-02T05:22:39.149112",
   "environment_variables": {},
   "exception": null,
   "input_path": "__notebook__.ipynb",
   "output_path": "__notebook__.ipynb",
   "parameters": {},
   "start_time": "2023-08-02T05:15:18.271176",
   "version": "2.4.0"
  }
 },
 "nbformat": 4,
 "nbformat_minor": 5
}
